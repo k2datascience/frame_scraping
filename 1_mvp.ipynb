{
 "cells": [
  {
   "cell_type": "markdown",
   "metadata": {},
   "source": [
    "# MVP - Blog level analytics"
   ]
  },
  {
   "cell_type": "code",
   "execution_count": 100,
   "metadata": {},
   "outputs": [],
   "source": [
    "import bonobo\n",
    "import requests\n",
    "from bs4 import BeautifulSoup\n",
    "from dateutil import parser\n",
    "from textstat.textstat import textstat"
   ]
  },
  {
   "cell_type": "code",
   "execution_count": 102,
   "metadata": {
    "collapsed": true
   },
   "outputs": [],
   "source": [
    "headers = {\n",
    "    'user-agent': 'Mozilla/5.0 (Macintosh; Intel Mac OS X 10_11_6) AppleWebKit/537.36 (KHTML, like Gecko) Chrome/56.0.2924.87 Safari/537.36',\n",
    "    'referrer': 'https://google.com'\n",
    "}"
   ]
  },
  {
   "cell_type": "code",
   "execution_count": 103,
   "metadata": {
    "collapsed": true
   },
   "outputs": [],
   "source": [
    "categories = ['post-production', 'color-correction', 'business', 'workflow', 'behind-the-scenes', 'production', 'announcement']"
   ]
  },
  {
   "cell_type": "code",
   "execution_count": 104,
   "metadata": {
    "collapsed": true
   },
   "outputs": [],
   "source": [
    "articles_store = []\n",
    "\n",
    "def parse_category(url):\n",
    "    r = requests.get(url, headers=headers)\n",
    "    html = r.text.strip()\n",
    "    soup = BeautifulSoup(html, 'lxml')\n",
    "    \n",
    "    article_cards = soup.findAll(class_='post-content')\n",
    "\n",
    "    for article in article_cards:\n",
    "        title = article.find(class_='post-meta-title')\n",
    "        link = title.contents[0]['href']\n",
    "        print('Parsing URL:', link)\n",
    "        page = parse_page(link)\n",
    "        articles_store.append(page)\n",
    "        \n",
    "    next_link = find_next_link(soup)\n",
    "    \n",
    "    if next_link is not None:\n",
    "        print('Next page:', next_link)\n",
    "        parse_category(next_link)\n",
    "        \n",
    "    return None\n",
    "\n",
    "def find_next_link(soup_item):\n",
    "    bottom_nav = soup_item.find(class_='navigation')\n",
    "    \n",
    "    if bottom_nav == None:\n",
    "        return None\n",
    "    \n",
    "    links = bottom_nav.findAll('a')\n",
    "    next_page = links[-1]\n",
    "\n",
    "    if next_page.contents[0] == 'Next':\n",
    "        next_link = next_page['href']\n",
    "        return next_link\n",
    "    \n",
    "    return None"
   ]
  },
  {
   "cell_type": "code",
   "execution_count": 105,
   "metadata": {},
   "outputs": [],
   "source": [
    "def parse_page(url):\n",
    "    r = requests.get(url, headers=headers)\n",
    "    html = r.text.strip()\n",
    "    soup = BeautifulSoup(html, 'lxml')\n",
    "    \n",
    "    # Header Content\n",
    "    header = soup.find(class_='entry-header')\n",
    "    read_time = extract_read_time(header)\n",
    "    title = extract_title(header)\n",
    "\n",
    "    author = extract_author(header)\n",
    "    categories = extract_categories(header)\n",
    "\n",
    "    date = extract_date(header)\n",
    "    dt = parser.parse(date)\n",
    "    month = dt.strftime(\"%B\")\n",
    "    weekday = dt.strftime(\"%A\")\n",
    "    \n",
    "    # Body Content\n",
    "    content = soup.find(class_='entry-content')\n",
    "    word_count = len(content.text.split())\n",
    "    reading_level = textstat.flesch_kincaid_grade(content.text)\n",
    "\n",
    "    links = content.find_all(\"a\")\n",
    "    link_count = len(links)\n",
    "\n",
    "    images = content.find_all(\"img\")\n",
    "    image_count = len(images)\n",
    "    \n",
    "    page_data = {\n",
    "        'reading_time' : read_time,\n",
    "        'title': title,\n",
    "        'date': date,\n",
    "        'month': month,\n",
    "        'weekday': weekday,\n",
    "        'author': author,\n",
    "        'categories': categories,\n",
    "        'word_count': word_count,\n",
    "        'reading_level': reading_level,\n",
    "        'link_count': link_count,\n",
    "        'image_count': image_count\n",
    "    }\n",
    "    \n",
    "    return page_data\n",
    "    \n",
    "def extract_read_time(header):\n",
    "    html_str = header.find(class_='read-time')\n",
    "    time_str = html_str.contents[0].strip().lower().split()[0]\n",
    "    time_int = int(time_str)\n",
    "    return time_int\n",
    "\n",
    "def extract_title(header):\n",
    "    html_str = header.find(class_='post-meta-title')\n",
    "    title_str = html_str.contents[0].strip()\n",
    "    return title_str\n",
    "\n",
    "def extract_date(header):\n",
    "    html_str = header.find(class_='single-post-date')\n",
    "    date_str = html_str.contents[0].strip()\n",
    "    return date_str\n",
    "\n",
    "def extract_author(header):\n",
    "    html_str = header.find(class_='author-name')\n",
    "    author_str = html_str.find('a').contents[0].strip()\n",
    "    return author_str\n",
    "\n",
    "def extract_categories(header):\n",
    "    html_str = header.find(class_='single-post-cat')\n",
    "    categories = html_str.findAll('a')\n",
    "    cat_names = []\n",
    "    for cat_link in categories:\n",
    "        cat_name = cat_link.contents[0].strip().lower()\n",
    "        cat_names.append(cat_name)\n",
    "    return cat_names"
   ]
  },
  {
   "cell_type": "code",
   "execution_count": 106,
   "metadata": {
    "scrolled": true
   },
   "outputs": [
    {
     "name": "stdout",
     "output_type": "stream",
     "text": [
      "Parsing category post-production\n",
      "Parsing URL: https://blog.frame.io/2018/09/24/hevc-format-wars/\n",
      "Parsing URL: https://blog.frame.io/2018/09/17/fcpx-shortcuts/\n",
      "Parsing URL: https://blog.frame.io/2018/09/04/creating-video-for-blind-and-deaf/\n",
      "Parsing URL: https://blog.frame.io/2018/08/27/deep-dive-fcpx-audio-tools/\n",
      "Parsing URL: https://blog.frame.io/2018/07/23/tips-for-no-coverage/\n",
      "Parsing URL: https://blog.frame.io/2018/06/11/adr-primer/\n",
      "Parsing URL: https://blog.frame.io/2018/05/14/premiere-batch-syncing/\n",
      "Parsing URL: https://blog.frame.io/2018/03/12/studying-6-editing-masterpieces/\n",
      "Parsing URL: https://blog.frame.io/2018/02/19/avid-media-composer-troubleshooting-tips/\n",
      "Parsing URL: https://blog.frame.io/2018/02/12/animated-masks-after-effects/\n",
      "Parsing URL: https://blog.frame.io/2018/02/07/editorial-style/\n",
      "Parsing URL: https://blog.frame.io/2018/01/31/fcpx-metadata/\n",
      "Next page: https://blog.frame.io/category/post-production/page/2/\n",
      "Parsing URL: https://blog.frame.io/2018/01/26/perfect-dialog-with-fincher-effect/\n",
      "Parsing URL: https://blog.frame.io/2018/01/08/advanced-editing-after-effects/\n",
      "Parsing URL: https://blog.frame.io/2018/01/03/11-biggest-backup-mistakes/\n",
      "Parsing URL: https://blog.frame.io/2017/12/13/making-a-graphics-package/\n",
      "Parsing URL: https://blog.frame.io/2017/12/04/lower-thirds-that-dont-suck/\n",
      "Parsing URL: https://blog.frame.io/2017/11/30/fcpx-roles/\n",
      "Parsing URL: https://blog.frame.io/2017/11/28/sync-locks-avid-premiere/\n",
      "Parsing URL: https://blog.frame.io/2017/11/22/9-premiere-pro-export-settings/\n",
      "Parsing URL: https://blog.frame.io/2017/11/20/templates-boost-creativity/\n",
      "Parsing URL: https://blog.frame.io/2017/11/15/3d-space-after-effects/\n",
      "Parsing URL: https://blog.frame.io/2017/11/13/common-premiere-pro-crashes/\n",
      "Parsing URL: https://blog.frame.io/2017/11/08/make-music-fit-your-video/\n",
      "Next page: https://blog.frame.io/category/post-production/page/3/\n",
      "Parsing URL: https://blog.frame.io/2017/11/01/how-to-use-blend-modes/\n",
      "Parsing URL: https://blog.frame.io/2017/10/30/cutting-a-film-davinci-resolve/\n",
      "Parsing URL: https://blog.frame.io/2017/10/25/4-reality-tv-editing-techniques/\n",
      "Parsing URL: https://blog.frame.io/2017/10/23/7-prep-mistakes-to-avoid/\n",
      "Parsing URL: https://blog.frame.io/2017/10/16/fcpx-magnetic-timeline/\n",
      "Parsing URL: https://blog.frame.io/2017/10/11/better-audio-in-premiere/\n",
      "Parsing URL: https://blog.frame.io/2017/10/09/prepping-social-media-video/\n",
      "Parsing URL: https://blog.frame.io/2017/10/02/speeding-up-stringouts-keyboard-maestro/\n",
      "Parsing URL: https://blog.frame.io/2017/09/13/give-fcpx-second-look/\n",
      "Parsing URL: https://blog.frame.io/2017/09/11/speed-up-premierepro-exports/\n",
      "Parsing URL: https://blog.frame.io/2017/09/06/davinci-resolve-may-be-most-powerful/\n",
      "Parsing URL: https://blog.frame.io/2017/08/23/editing-laughter-love-loneliness/\n",
      "Next page: https://blog.frame.io/category/post-production/page/4/\n",
      "Parsing URL: https://blog.frame.io/2017/08/21/editor-as-writer/\n",
      "Parsing URL: https://blog.frame.io/2017/08/16/increasing-bit-depth/\n",
      "Parsing URL: https://blog.frame.io/2017/08/07/prores-on-windows/\n",
      "Parsing URL: https://blog.frame.io/2017/07/24/tighten-your-edit/\n",
      "Parsing URL: https://blog.frame.io/2017/07/17/timecode-and-frame-rates/\n",
      "Parsing URL: https://blog.frame.io/2017/07/06/successful-test-screening-tips/\n",
      "Parsing URL: https://blog.frame.io/2017/06/26/oscar-winning-editor-john-gilbert-interview/\n",
      "Parsing URL: https://blog.frame.io/2017/06/21/3-principals-story-driven-pbs-documentary/\n",
      "Parsing URL: https://blog.frame.io/2017/06/19/a-musical-approach-to-cutting-documentaries/\n",
      "Parsing URL: https://blog.frame.io/2017/06/14/proxy-media-avid/\n",
      "Parsing URL: https://blog.frame.io/2017/06/12/making-jump-assistant-to-lead-editor/\n",
      "Parsing URL: https://blog.frame.io/2017/06/07/better-call-saul-editor-mistakes/\n",
      "Next page: https://blog.frame.io/category/post-production/page/5/\n",
      "Parsing URL: https://blog.frame.io/2017/06/02/frontline-editor-engaging-the-audience/\n",
      "Parsing URL: https://blog.frame.io/2017/05/25/doctor-strange-co-editors-team-dynamic/\n",
      "Parsing URL: https://blog.frame.io/2017/05/11/ultimate-guide-to-fcp-x-proxies/\n",
      "Parsing URL: https://blog.frame.io/2017/05/08/edit-with-silence/\n",
      "Parsing URL: https://blog.frame.io/2017/03/27/snl-editor-adam-epstein-recommends-insane-deadlines/\n",
      "Parsing URL: https://blog.frame.io/2017/03/06/calculate-video-bitrates/\n",
      "Parsing URL: https://blog.frame.io/2017/02/15/choose-the-right-codec/\n",
      "Parsing URL: https://blog.frame.io/2017/02/13/50-intermediate-codecs-compared/\n",
      "Parsing URL: https://blog.frame.io/2016/11/17/screen-replacement-after-effects/\n",
      "Parsing URL: https://blog.frame.io/2016/11/11/team-project/\n",
      "Parsing URL: https://blog.frame.io/2016/11/02/make-fcp-x-log-better-2/\n",
      "Parsing URL: https://blog.frame.io/2016/10/18/make-fcp-x-log-better-1/\n",
      "Next page: https://blog.frame.io/category/post-production/page/6/\n",
      "Parsing URL: https://blog.frame.io/2016/10/06/6-ways-to-maximize-multicam-fcpx/\n",
      "Parsing URL: https://blog.frame.io/2016/09/21/5-ways-make-final-cut-pro-x-faster/\n",
      "Parsing URL: https://blog.frame.io/2016/09/13/recognize-fix-common-problems-fcpx/\n",
      "Parsing URL: https://blog.frame.io/2016/08/16/last-best-picture-without-visual-effects/\n",
      "Parsing URL: https://blog.frame.io/2016/08/05/12-steps-to-make-after-effects-faster/\n",
      "Parsing category color-correction\n",
      "Parsing URL: https://blog.frame.io/2018/05/21/premiere-lumetri-guide/\n",
      "Parsing URL: https://blog.frame.io/2018/01/10/fcpx-color-tools-game-changer/\n",
      "Parsing URL: https://blog.frame.io/2017/11/06/advanced-curves-techniques/\n",
      "Parsing URL: https://blog.frame.io/2017/09/27/introduction-to-video-scopes/\n",
      "Parsing URL: https://blog.frame.io/2017/09/20/beginners-guide-to-curves/\n",
      "Parsing URL: https://blog.frame.io/2017/05/30/emulate-any-film-look-with-basic-color-correction/\n",
      "Parsing URL: https://blog.frame.io/2017/03/13/editors-guide-to-fixing-skin-tones-in-fcp-x/\n",
      "Parsing category business\n",
      "Parsing URL: https://blog.frame.io/2018/08/20/maximize-creative-fulfillment/\n",
      "Parsing URL: https://blog.frame.io/2018/08/13/how-to-get-paid-for-your-art/\n",
      "Parsing URL: https://blog.frame.io/2018/08/06/build-trust-keep-clients/\n",
      "Parsing URL: https://blog.frame.io/2018/03/19/evan-schiff-renaissance-editor/\n",
      "Parsing URL: https://blog.frame.io/2018/01/24/pitching-an-agency/\n",
      "Parsing URL: https://blog.frame.io/2017/12/20/essential-organization-habits/\n",
      "Parsing URL: https://blog.frame.io/2017/12/18/how-much-should-editors-charge/\n",
      "Parsing URL: https://blog.frame.io/2017/12/06/google-branding-video/\n",
      "Parsing URL: https://blog.frame.io/2017/09/25/remote-work-life-balance-strategies/\n",
      "Parsing URL: https://blog.frame.io/2017/09/18/5-reasons-to-work-for-free/\n",
      "Parsing URL: https://blog.frame.io/2017/08/30/copyrights-and-fair-use-for-filmmakers/\n",
      "Parsing URL: https://blog.frame.io/2017/08/28/tips-for-women-filmmakers/\n",
      "Next page: https://blog.frame.io/category/business/page/2/\n",
      "Parsing URL: https://blog.frame.io/2017/08/14/networking-in-hollywood/\n",
      "Parsing URL: https://blog.frame.io/2017/07/10/black-blonde-bold-in-hollywood/\n",
      "Parsing URL: https://blog.frame.io/2017/06/28/working-with-a-director/\n",
      "Parsing URL: https://blog.frame.io/2017/06/12/making-jump-assistant-to-lead-editor/\n",
      "Parsing URL: https://blog.frame.io/2017/06/01/how-i-hire-a-film-editor/\n",
      "Parsing URL: https://blog.frame.io/2017/05/25/doctor-strange-co-editors-team-dynamic/\n",
      "Parsing URL: https://blog.frame.io/2017/05/22/4-keys-fulfilling-editing-career-veteran-editor/\n",
      "Parsing URL: https://blog.frame.io/2017/05/18/how-taylor-tracy-left-corporate-video-for-music-videos/\n",
      "Parsing URL: https://blog.frame.io/2017/04/21/what-15-years-of-writing-videography-contracts-has-taught-me/\n",
      "Parsing URL: https://blog.frame.io/2017/03/31/9-principles-for-a-long-career-as-a-video-creative/\n",
      "Parsing URL: https://blog.frame.io/2016/09/27/independent-filmmaking/\n",
      "Parsing URL: https://blog.frame.io/2016/01/07/how-these-three-directors-went-from-short-film-to-hollywood/\n",
      "Next page: https://blog.frame.io/category/business/page/3/\n",
      "Parsing URL: https://blog.frame.io/2016/01/04/set-goals-become-better-filmmaker-2016/\n",
      "Parsing category workflow\n",
      "Parsing URL: https://blog.frame.io/2018/09/24/hevc-format-wars/\n",
      "Parsing URL: https://blog.frame.io/2018/04/30/red-workflows/\n",
      "Parsing URL: https://blog.frame.io/2018/04/02/arri-workflow-premiere/\n"
     ]
    },
    {
     "name": "stdout",
     "output_type": "stream",
     "text": [
      "Parsing URL: https://blog.frame.io/2018/03/05/oscar-2018-workflows/\n",
      "Parsing URL: https://blog.frame.io/2018/01/17/remote-dailies-workflow/\n",
      "Parsing URL: https://blog.frame.io/2017/10/04/turbo-charge-fcpx-workflow-davinci-resolve/\n",
      "Parsing URL: https://blog.frame.io/2017/07/31/baby-driver-workflow/\n",
      "Parsing URL: https://blog.frame.io/2017/05/15/sync-clips-in-davinci-resolve/\n",
      "Parsing URL: https://blog.frame.io/2017/03/20/premiere-pro-proxies/\n",
      "Parsing category behind-the-scenes\n",
      "Parsing URL: https://blog.frame.io/2018/10/01/womans-experience-cutting-blockbusterrs/\n",
      "Parsing URL: https://blog.frame.io/2018/09/10/made-in-frame-searching/\n",
      "Parsing URL: https://blog.frame.io/2018/07/30/inside-mission-impossible-fallout/\n",
      "Parsing URL: https://blog.frame.io/2018/07/16/made-in-frame-film-riot/\n",
      "Parsing URL: https://blog.frame.io/2018/07/02/bts-hotel-artemis/\n",
      "Parsing URL: https://blog.frame.io/2018/06/25/made-in-frame-hereditary/\n",
      "Parsing URL: https://blog.frame.io/2018/06/18/making-incredibles-2/\n",
      "Parsing URL: https://blog.frame.io/2018/05/29/made-in-frame-conan-obrien/\n",
      "Parsing URL: https://blog.frame.io/2018/05/07/madeinframe-kiwi/\n",
      "Parsing URL: https://blog.frame.io/2018/03/26/made-in-frame-new-balance-fearlessly-independent/\n",
      "Parsing URL: https://blog.frame.io/2018/02/26/made-in-frame-get-out/\n",
      "Parsing URL: https://blog.frame.io/2017/08/21/editor-as-writer/\n",
      "Next page: https://blog.frame.io/category/behind-the-scenes/page/2/\n",
      "Parsing URL: https://blog.frame.io/2017/07/31/baby-driver-workflow/\n",
      "Parsing URL: https://blog.frame.io/2017/03/27/snl-editor-adam-epstein-recommends-insane-deadlines/\n",
      "Parsing URL: https://blog.frame.io/2016/12/08/brown-nation-netflix/\n",
      "Parsing URL: https://blog.frame.io/2016/12/01/documentary-now/\n",
      "Parsing URL: https://blog.frame.io/2016/10/31/votecastr-election-day-frame-io/\n",
      "Parsing URL: https://blog.frame.io/2016/09/16/frame-io-cribs-picrow/\n",
      "Parsing URL: https://blog.frame.io/2016/08/30/crib-framestore-los-angeles/\n",
      "Parsing URL: https://blog.frame.io/2016/07/22/inside-filmmaking-6below/\n",
      "Parsing category production\n",
      "Parsing URL: https://blog.frame.io/2018/10/08/media-management-any-budget/\n",
      "Parsing URL: https://blog.frame.io/2018/07/09/iconic-tv-title-sequences/\n",
      "Parsing URL: https://blog.frame.io/2018/06/04/iconic-film-titles/\n",
      "Parsing URL: https://blog.frame.io/2018/04/16/game-changers/\n",
      "Parsing URL: https://blog.frame.io/2018/01/22/premiere-pro-audio-tools/\n",
      "Parsing URL: https://blog.frame.io/2017/12/11/8-sci-fi-fonts/\n",
      "Parsing URL: https://blog.frame.io/2017/08/09/audio-spec-sheet/\n",
      "Parsing URL: https://blog.frame.io/2017/04/10/how-to-keep-your-sound-editor-happy/\n",
      "Parsing URL: https://blog.frame.io/2016/12/06/shooting-situations/\n",
      "Parsing URL: https://blog.frame.io/2016/11/15/fascinate-audience-playing-time/\n",
      "Parsing URL: https://blog.frame.io/2016/10/21/silence-over-sound/\n",
      "Parsing URL: https://blog.frame.io/2016/09/01/how-to-use-a-dolly-shot-to-transform-a-simple-scene/\n",
      "Next page: https://blog.frame.io/category/production/page/2/\n",
      "Parsing URL: https://blog.frame.io/2016/08/23/vr-novice-storyteller-needs-know/\n",
      "Parsing URL: https://blog.frame.io/2016/08/18/how-to-move-everything-but-the-camera/\n",
      "Parsing URL: https://blog.frame.io/2016/08/12/improve-visual-storytelling-daily/\n",
      "Parsing URL: https://blog.frame.io/2016/08/01/break-180-degree-rule/\n",
      "Parsing URL: https://blog.frame.io/2016/07/26/one-essential-principle-create-indelible-slow-motion/\n",
      "Parsing URL: https://blog.frame.io/2016/02/04/cast-great-actors-by-holding-better-auditions/\n",
      "Parsing URL: https://blog.frame.io/2016/01/28/how-to-make-great-storyboards-even-if-you-cant-draw/\n",
      "Parsing URL: https://blog.frame.io/2016/01/25/6-photographers-who-will-make-you-a-better-filmmaker/\n",
      "Parsing URL: https://blog.frame.io/2016/01/18/6-steps-to-writing-powerful-loglines/\n",
      "Parsing URL: https://blog.frame.io/2016/01/11/8-viral-ads-that-won-2015/\n",
      "Parsing URL: https://blog.frame.io/2015/12/31/say-yes-to-vertical-video/\n",
      "Parsing URL: https://blog.frame.io/2015/12/28/how-to-launch-your-career-with-a-jaw-dropping-spec-piece/\n",
      "Next page: https://blog.frame.io/category/production/page/3/\n",
      "Parsing URL: https://blog.frame.io/2015/12/24/5-steps-tell-story-color/\n",
      "Parsing URL: https://blog.frame.io/2015/12/21/7-amazing-books-youll-never-read-film-school/\n",
      "Parsing category announcement\n",
      "Parsing URL: https://blog.frame.io/2018/09/12/tpn-compliant/\n",
      "Parsing URL: https://blog.frame.io/2018/07/10/delivering-on-our-security-promise/\n",
      "Parsing URL: https://blog.frame.io/2018/06/13/presence-search-history/\n",
      "Parsing URL: https://blog.frame.io/2018/05/30/image-review/\n",
      "Parsing URL: https://blog.frame.io/2018/04/09/watch-folders/\n",
      "Parsing URL: https://blog.frame.io/2018/03/27/all-new-frame-io/\n",
      "Parsing URL: https://blog.frame.io/2018/03/21/nab-2018/\n",
      "Parsing URL: https://blog.frame.io/2018/02/14/a-word-on-security/\n",
      "Parsing URL: https://blog.frame.io/2018/02/05/dreamstation-unboxing/\n",
      "Parsing URL: https://blog.frame.io/2018/02/02/a-redesigned-player-experience/\n",
      "Parsing URL: https://blog.frame.io/2017/10/24/dreamstation-giveaway/\n",
      "Parsing URL: https://blog.frame.io/2017/10/18/frameio-and-pond5/\n",
      "Next page: https://blog.frame.io/category/announcement/page/2/\n",
      "Parsing URL: https://blog.frame.io/2017/10/03/frameio-20m-series-b/\n",
      "Parsing URL: https://blog.frame.io/2017/09/05/ibc-2017/\n",
      "Parsing URL: https://blog.frame.io/2017/06/20/frame-io-enterprise/\n",
      "Parsing URL: https://blog.frame.io/2017/05/31/ios-version-1-4/\n",
      "Parsing URL: https://blog.frame.io/2017/05/04/frame-io-takes-nab-2017-best-show-award/\n",
      "Parsing URL: https://blog.frame.io/2017/04/20/hang-out-with-frame-io-at-nab/\n",
      "Parsing URL: https://blog.frame.io/2017/04/10/introducing-frame-io-2/\n",
      "Parsing URL: https://blog.frame.io/2017/02/22/new-offline-viewing-iphone/\n",
      "Parsing URL: https://blog.frame.io/2016/11/07/introducing-frame-io-for-adobe-after-effects-cc/\n",
      "Parsing URL: https://blog.frame.io/2016/09/14/series-a-announcement/\n",
      "Parsing URL: https://blog.frame.io/2016/08/17/introducing-frame-io-slack/\n",
      "Parsing URL: https://blog.frame.io/2016/07/07/frame-io-on-lynda-com/\n",
      "Next page: https://blog.frame.io/category/announcement/page/3/\n",
      "Parsing URL: https://blog.frame.io/2016/06/14/frame-io-iphone-2016-apple-design-award-winner/\n",
      "Parsing URL: https://blog.frame.io/2016/06/02/frameio-for-ios/\n",
      "Parsing URL: https://blog.frame.io/2016/04/11/frameio-for-premiere/\n",
      "Parsing URL: https://blog.frame.io/2016/04/05/90000-users-75-new-features-improvements/\n",
      "Parsing URL: https://blog.frame.io/2016/01/06/all-new-ways-to-express-yourself-in-frame-io/\n",
      "Parsing URL: https://blog.frame.io/2015/11/23/firefox-welcome-to-the-family/\n",
      "Parsing URL: https://blog.frame.io/2015/11/17/new-player-faster-playback/\n",
      "Parsing URL: https://blog.frame.io/2015/10/07/frame-io-raises-2-2m-from-accel-partners-jared-leto-more/\n",
      "Parsing URL: https://blog.frame.io/2015/08/19/50000-users-and-100-new-features-and-improvements/\n",
      "Parsing URL: https://blog.frame.io/2015/06/30/seamless-integration-with-final-cut-pro-x-is-here/\n",
      "Parsing URL: https://blog.frame.io/2015/05/18/over-25-improvements-in-frame-io/\n",
      "Parsing URL: https://blog.frame.io/2015/04/24/frame-io-nab-highlights/\n",
      "Next page: https://blog.frame.io/category/announcement/page/4/\n",
      "Parsing URL: https://blog.frame.io/2015/04/07/frame-io-launch-report-card/\n",
      "Parsing URL: https://blog.frame.io/2015/03/06/finally-frame-io-is-launching-march-31st/\n",
      "Parsing URL: https://blog.frame.io/2014/08/27/newsletter-2/\n"
     ]
    }
   ],
   "source": [
    "for category in categories:\n",
    "    url = 'https://blog.frame.io/category/' + category + '/'\n",
    "    print('Parsing category', category)\n",
    "    parse_category(url)"
   ]
  },
  {
   "cell_type": "code",
   "execution_count": 107,
   "metadata": {},
   "outputs": [
    {
     "data": {
      "text/plain": [
       "191"
      ]
     },
     "execution_count": 107,
     "metadata": {},
     "output_type": "execute_result"
    }
   ],
   "source": [
    "len(articles_store)"
   ]
  },
  {
   "cell_type": "code",
   "execution_count": 108,
   "metadata": {
    "scrolled": true
   },
   "outputs": [
    {
     "data": {
      "text/plain": [
       "{'author': 'Seth Goldin',\n",
       " 'categories': ['codecs', 'workflow'],\n",
       " 'date': 'September 24, 2018',\n",
       " 'image_count': 4,\n",
       " 'link_count': 46,\n",
       " 'month': 'September',\n",
       " 'reading_level': 8.4,\n",
       " 'reading_time': 11,\n",
       " 'title': 'HEVC, VP9, and AV1: What You Need to Know About the Codec Wars',\n",
       " 'weekday': 'Monday',\n",
       " 'word_count': 2349}"
      ]
     },
     "execution_count": 108,
     "metadata": {},
     "output_type": "execute_result"
    }
   ],
   "source": [
    "articles_store[0]"
   ]
  },
  {
   "cell_type": "code",
   "execution_count": 109,
   "metadata": {
    "collapsed": true
   },
   "outputs": [],
   "source": [
    "import pickle\n",
    "\n",
    "pickle.dump(articles_store, open(\"articles.p\", \"wb\"))"
   ]
  },
  {
   "cell_type": "code",
   "execution_count": 110,
   "metadata": {},
   "outputs": [],
   "source": [
    "import json\n",
    "\n",
    "with open('articles.json', 'w') as f:\n",
    "    json.dump(articles_store, f)"
   ]
  },
  {
   "cell_type": "code",
   "execution_count": null,
   "metadata": {
    "collapsed": true
   },
   "outputs": [],
   "source": []
  },
  {
   "cell_type": "markdown",
   "metadata": {},
   "source": [
    "# Summary Statistics to JSON"
   ]
  },
  {
   "cell_type": "markdown",
   "metadata": {},
   "source": [
    "- Average reading time\n",
    "- Count of posts by category\n",
    "- Count of posts by author\n",
    "- Posts by month\n",
    "- Posts by day"
   ]
  },
  {
   "cell_type": "code",
   "execution_count": 111,
   "metadata": {
    "collapsed": true
   },
   "outputs": [],
   "source": [
    "from collections import Counter"
   ]
  },
  {
   "cell_type": "code",
   "execution_count": 112,
   "metadata": {},
   "outputs": [],
   "source": [
    "# Summary Statistics\n",
    "times = []\n",
    "months = []\n",
    "weekdays = []\n",
    "authors = []\n",
    "categories = []\n",
    "\n",
    "for article in articles_store:\n",
    "    # Average Reading Time\n",
    "    times.append(article['reading_time'])\n",
    "    average_time = sum(times) / float(len(times))\n",
    "    average_time = round(average_time, 2)\n",
    "    \n",
    "    # Posts by Month\n",
    "    months.append(article['month'])\n",
    "    month_count = Counter(months)\n",
    "    \n",
    "    # Posts by Weekday\n",
    "    weekdays.append(article['weekday'])\n",
    "    weekday_count = Counter(weekdays)\n",
    "    \n",
    "    # Count by Category\n",
    "    categories += article['categories']\n",
    "    category_count = Counter(categories)\n",
    "    \n",
    "    # Count by Author\n",
    "    authors.append(article['author'])\n",
    "    author_count = Counter(authors)"
   ]
  },
  {
   "cell_type": "code",
   "execution_count": 113,
   "metadata": {},
   "outputs": [
    {
     "name": "stdout",
     "output_type": "stream",
     "text": [
      "Average reading time: 10.2\n",
      "Posts by month Counter({'August': 23, 'September': 20, 'June': 19, 'October': 18, 'May': 16, 'November': 16, 'July': 15, 'January': 15, 'March': 13, 'December': 13, 'April': 12, 'February': 11})\n",
      "Posts by weekday Counter({'Monday': 87, 'Wednesday': 45, 'Tuesday': 24, 'Thursday': 22, 'Friday': 13})\n",
      "Posts by category Counter({'editing': 39, 'announcement': 39, 'post-production': 23, 'career': 20, 'storytelling': 15, 'behind the scenes': 14, 'workflow': 11, 'codecs': 8, 'color correction': 7, 'business': 7, 'made in frame': 7, 'production': 5, 'sound': 3, 'cribs': 2, 'design': 2, 'technology': 1})\n",
      "Posts by author Counter({'Emery Wells': 36, 'Mark Christiansen': 16, 'Ron Dawson': 15, 'Stephen Heleker': 12, 'Jason Boone': 10, 'Lisa McNamara': 9, 'Sofi Marshall': 8, 'David Kong': 8, 'Scott Strandberg': 7, 'Yuri Baranovsky': 6, 'Clara Lehmann': 5, 'T Payton': 5, 'Reuben Evans': 4, 'Seth Goldin': 3, 'Jeff Hinton': 3, 'Hilda Saffari': 3, 'Jarle Leirpoll': 3, 'Ryan Charles': 2, 'Alexander Huls': 2, 'Richard Starkey': 2, 'Nick Harauz': 2, 'Jonny Elwyn': 2, 'Zack Arnold': 2, 'Christian Leithart': 2, 'Eric Escobar': 2, 'Andrew LaSane': 2, 'Katie Hinsen': 1, 'Richard Kronenberg': 1, 'Josh Short': 1, 'Misha Tenenbaum': 1, 'Kris Ramsey': 1, 'Jon Collins': 1, 'Ben Haslup': 1, 'Gregory Lewis': 1, 'Michael Chaskes': 1, 'Jeanna French': 1, 'Brian Levin': 1, 'Joe Hood': 1, 'Jes Zurell': 1, 'Robert Hardy': 1, 'Ashraf Meer': 1, 'Zach Prichard': 1, 'Andy Young': 1, 'Chris Salters': 1, 'Sin Cohen': 1, 'Jacqwi Campbell': 1})\n"
     ]
    }
   ],
   "source": [
    "print(\"Average reading time:\", average_time)\n",
    "print(\"Posts by month\", month_count)\n",
    "print(\"Posts by weekday\", weekday_count)\n",
    "print(\"Posts by category\", category_count)\n",
    "print(\"Posts by author\", author_count)"
   ]
  },
  {
   "cell_type": "code",
   "execution_count": 114,
   "metadata": {
    "collapsed": true
   },
   "outputs": [],
   "source": [
    "import json\n",
    "\n",
    "stats = { \n",
    "    'reading_time': average_time, \n",
    "    'num_articles': len(articles_store) \n",
    "}\n",
    "\n",
    "with open('stats.json', 'w') as f:\n",
    "    json.dump(stats, f)\n",
    "\n",
    "with open('weekday.json', 'w') as f:\n",
    "    json.dump(weekday_count, f)\n",
    "    \n",
    "with open('month.json', 'w') as f:\n",
    "    json.dump(month_count, f)\n",
    "    \n",
    "with open('category.json', 'w') as f:\n",
    "    json.dump(category_count, f)\n",
    "\n",
    "with open('author.json', 'w') as f:\n",
    "    json.dump(author_count, f)"
   ]
  },
  {
   "cell_type": "code",
   "execution_count": null,
   "metadata": {
    "collapsed": true
   },
   "outputs": [],
   "source": []
  }
 ],
 "metadata": {
  "kernelspec": {
   "display_name": "Python 3",
   "language": "python",
   "name": "python3"
  },
  "language_info": {
   "codemirror_mode": {
    "name": "ipython",
    "version": 3
   },
   "file_extension": ".py",
   "mimetype": "text/x-python",
   "name": "python",
   "nbconvert_exporter": "python",
   "pygments_lexer": "ipython3",
   "version": "3.6.3"
  }
 },
 "nbformat": 4,
 "nbformat_minor": 2
}
